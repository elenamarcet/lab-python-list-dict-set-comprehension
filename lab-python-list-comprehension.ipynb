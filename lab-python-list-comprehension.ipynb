{
 "cells": [
  {
   "cell_type": "markdown",
   "id": "25d7736c-ba17-4aff-b6bb-66eba20fbf4e",
   "metadata": {},
   "source": [
    "# Lab | List, Dict and Set Comprehension"
   ]
  },
  {
   "cell_type": "markdown",
   "id": "7dd3cbde-675a-4b81-92c3-f728846dbe06",
   "metadata": {},
   "source": [
    "## Exercise: Managing Customer Orders Optimized with Comprehension"
   ]
  },
  {
   "cell_type": "markdown",
   "id": "5d500160-2fb7-4777-b5e4-09d45ebaf328",
   "metadata": {},
   "source": [
    "In the previous exercise, you developed a program to manage customer orders and inventory. Now, let's take it a step further and incorporate comprehension into your code.\n",
    "\n",
    "Follow the steps below to complete the exercise:\n",
    "\n",
    "1. Review your code from the previous exercise and identify areas where you can apply comprehension to simplify and streamline your code. \n",
    "\n",
    "    - *Hint: Apply it to initialize inventory, updating the inventory and printing the updated inventory.*\n",
    "    \n",
    "    - For example, in initializing the inventory, we could have:\n",
    "    \n",
    "        ```python\n",
    "        def initialize_inventory(products):\n",
    "            inventory = {product: int(input(f\"Enter the quantity of {product}s available: \")) for product in products}\n",
    "            return inventory\n",
    "\n",
    "        ```\n",
    "<br>\n",
    "    \n",
    "    \n",
    "2. Modify the function get_customer_orders so it prompts the user to enter the number of customer orders and gathers the product names using a loop and user input. Use comprehension.\n",
    "\n",
    "3. Add a new function to calculate the total price of the customer order. For each product in customer_orders, prompt the user to enter the price of that product. Use comprehension to calculate the total price. Note: assume that the user can only have 1 unit of each product.\n",
    "\n",
    "4. Modify the update_inventory function to remove the product from the inventory if its quantity becomes zero after fulfilling the customer orders. Use comprehension to filter out the products with a quantity of zero from the inventory.\n",
    "\n",
    "5. Print the total price of the customer order.\n",
    "\n",
    "Your code should produce output similar to the following:\n",
    "\n",
    "```python\n",
    "Enter the quantity of t-shirts available:  5\n",
    "Enter the quantity of mugs available:  4\n",
    "Enter the quantity of hats available:  3\n",
    "Enter the quantity of books available:  2\n",
    "Enter the quantity of keychains available:  1\n",
    "Enter the number of customer orders:  2\n",
    "Enter the name of a product that a customer wants to order:  hat\n",
    "Enter the name of a product that a customer wants to order:  keychain\n",
    "\n",
    "Order Statistics:\n",
    "Total Products Ordered: 2\n",
    "Percentage of Unique Products Ordered: 40.0\n",
    "\n",
    "Updated Inventory:\n",
    "t-shirt: 5\n",
    "mug: 4\n",
    "hat: 2\n",
    "book: 2\n",
    "Enter the price of keychain:  5\n",
    "Enter the price of hat:  10\n",
    "Total Price: 15.0\n",
    "\n",
    "```\n"
   ]
  },
  {
   "cell_type": "code",
   "execution_count": 1,
   "id": "2dbcb8fd",
   "metadata": {},
   "outputs": [],
   "source": [
    "#1\n",
    "\n",
    "def initialize_inventory(products):\n",
    "    inventory = {product: int(input(f\"Enter the quantity of {product} that are in stock: \").strip()) for product in products}\n",
    "    return inventory\n",
    "    "
   ]
  },
  {
   "cell_type": "code",
   "execution_count": 2,
   "id": "2764d91b",
   "metadata": {},
   "outputs": [],
   "source": [
    "#2\n",
    "\n",
    "def get_customer_orders():\n",
    "    customer_orders = set()\n",
    "    while True:\n",
    "        user_input = (input(\"Enter the product that you want to order: \")).lower().strip()\n",
    "        if user_input in products:\n",
    "          if user_input in customer_orders:\n",
    "            print(f\"{user_input} this product has already ordered. Try again\")\n",
    "          else:\n",
    "            customer_orders.add(user_input)\n",
    "        else:\n",
    "           print(f\"{user_input} this product is not available\")\n",
    "        user_input_ = (input(\"Do you want to  add another product?Please, answer yes or no\")).strip().lower()\n",
    "        if user_input_ == \"no\":\n",
    "           break\n",
    "    return customer_orders\n"
   ]
  },
  {
   "cell_type": "code",
   "execution_count": 3,
   "id": "8879102c",
   "metadata": {},
   "outputs": [],
   "source": [
    "#3: Define the function for updating the inventory\n",
    "def update_inventory(customer_orders, inventory):\n",
    "    inventory = {product: inventory[product] - 1 if product in customer_orders else inventory[product] for product in inventory}\n",
    "    inventory = {product: quantity for product, quantity in inventory.items() if quantity > 0}\n",
    "    return inventory"
   ]
  },
  {
   "cell_type": "code",
   "execution_count": 4,
   "id": "1eda7f6d",
   "metadata": {},
   "outputs": [],
   "source": [
    "#4\n",
    "\n",
    "def calculated_ordered_statistics(customers_orders, products):\n",
    "    perc_ordered = (len(customers_orders)/len(inventory))*100\n",
    "    total_products_ordered = len(customers_orders)\n",
    "    print(\"Order Statistics: \")\n",
    "    print(\"Total Products Ordered: \", total_products_ordered)\n",
    "    print(\"Percentage of Products Ordered: \", perc_ordered,\"%\")"
   ]
  },
  {
   "cell_type": "code",
   "execution_count": 5,
   "id": "da90f7e8",
   "metadata": {},
   "outputs": [],
   "source": [
    "def print_updated_inventory(inventory):\n",
    "    for product, quantity in inventory.items():\n",
    "        print(f\"Updated inventory: {quantity} {product}\")"
   ]
  },
  {
   "cell_type": "code",
   "execution_count": 6,
   "id": "dac97a22",
   "metadata": {},
   "outputs": [],
   "source": [
    "products = [\"t-shirt\",\"mug\",\"hat\",\"book\",\"keychain\"]"
   ]
  },
  {
   "cell_type": "code",
   "execution_count": 7,
   "id": "abb7f4d3",
   "metadata": {},
   "outputs": [],
   "source": [
    "inventory = initialize_inventory(products)\n",
    "\n",
    "customer_orders = get_customer_orders()\n",
    "\n",
    "inventory = update_inventory(customer_orders, inventory)\n",
    "\n",
    "\n"
   ]
  },
  {
   "cell_type": "code",
   "execution_count": 8,
   "id": "9d387881",
   "metadata": {},
   "outputs": [
    {
     "data": {
      "text/plain": [
       "{'t-shirt': 5, 'mug': 4, 'hat': 5, 'book': 4, 'keychain': 3}"
      ]
     },
     "execution_count": 8,
     "metadata": {},
     "output_type": "execute_result"
    }
   ],
   "source": [
    "initialize_inventory(products)"
   ]
  },
  {
   "cell_type": "code",
   "execution_count": 31,
   "id": "20c82a2e",
   "metadata": {},
   "outputs": [
    {
     "name": "stdout",
     "output_type": "stream",
     "text": [
      "Order Statistics: \n",
      "Total Products Ordered:  1\n",
      "Percentage of Products Ordered:  20.0 %\n"
     ]
    }
   ],
   "source": [
    "calculated_ordered_statistics(customer_orders,products)"
   ]
  },
  {
   "cell_type": "code",
   "execution_count": 36,
   "id": "5ee461b0",
   "metadata": {},
   "outputs": [
    {
     "name": "stdout",
     "output_type": "stream",
     "text": [
      "Updated inventory: 4 t-shirt\n",
      "Updated inventory: 5 mug\n",
      "Updated inventory: 3 hat\n",
      "Updated inventory: 3 book\n",
      "Updated inventory: 4 keychain\n"
     ]
    }
   ],
   "source": [
    "print_updated_inventory(inventory)"
   ]
  }
 ],
 "metadata": {
  "kernelspec": {
   "display_name": "Python 3 (ipykernel)",
   "language": "python",
   "name": "python3"
  },
  "language_info": {
   "codemirror_mode": {
    "name": "ipython",
    "version": 3
   },
   "file_extension": ".py",
   "mimetype": "text/x-python",
   "name": "python",
   "nbconvert_exporter": "python",
   "pygments_lexer": "ipython3",
   "version": "3.11.7"
  }
 },
 "nbformat": 4,
 "nbformat_minor": 5
}
